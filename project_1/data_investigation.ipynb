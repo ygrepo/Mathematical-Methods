{
 "cells": [
  {
   "cell_type": "code",
   "execution_count": 1,
   "id": "bridal-nevada",
   "metadata": {},
   "outputs": [],
   "source": [
    "from scipy.stats import linregress\n",
    "import pandas as pd\n",
    "import numpy as np\n",
    "import matplotlib.pyplot as plt "
   ]
  },
  {
   "cell_type": "code",
   "execution_count": 2,
   "id": "lonely-procedure",
   "metadata": {},
   "outputs": [],
   "source": [
    "df = pd.read_excel(\"project_1_data.xls\")"
   ]
  },
  {
   "cell_type": "code",
   "execution_count": 3,
   "id": "incident-trigger",
   "metadata": {},
   "outputs": [
    {
     "data": {
      "text/plain": [
       "Time             float64\n",
       "Concentration    float64\n",
       "dtype: object"
      ]
     },
     "execution_count": 3,
     "metadata": {},
     "output_type": "execute_result"
    }
   ],
   "source": [
    "df.dtypes"
   ]
  },
  {
   "cell_type": "code",
   "execution_count": 4,
   "id": "stopped-drawing",
   "metadata": {},
   "outputs": [
    {
     "data": {
      "text/html": [
       "<div>\n",
       "<style scoped>\n",
       "    .dataframe tbody tr th:only-of-type {\n",
       "        vertical-align: middle;\n",
       "    }\n",
       "\n",
       "    .dataframe tbody tr th {\n",
       "        vertical-align: top;\n",
       "    }\n",
       "\n",
       "    .dataframe thead th {\n",
       "        text-align: right;\n",
       "    }\n",
       "</style>\n",
       "<table border=\"1\" class=\"dataframe\">\n",
       "  <thead>\n",
       "    <tr style=\"text-align: right;\">\n",
       "      <th></th>\n",
       "      <th>Time</th>\n",
       "      <th>Concentration</th>\n",
       "    </tr>\n",
       "  </thead>\n",
       "  <tbody>\n",
       "    <tr>\n",
       "      <th>0</th>\n",
       "      <td>0.00</td>\n",
       "      <td>0.0</td>\n",
       "    </tr>\n",
       "    <tr>\n",
       "      <th>1</th>\n",
       "      <td>1.08</td>\n",
       "      <td>84.9</td>\n",
       "    </tr>\n",
       "    <tr>\n",
       "      <th>2</th>\n",
       "      <td>1.78</td>\n",
       "      <td>239.0</td>\n",
       "    </tr>\n",
       "    <tr>\n",
       "      <th>3</th>\n",
       "      <td>2.30</td>\n",
       "      <td>233.0</td>\n",
       "    </tr>\n",
       "    <tr>\n",
       "      <th>4</th>\n",
       "      <td>2.75</td>\n",
       "      <td>220.0</td>\n",
       "    </tr>\n",
       "    <tr>\n",
       "      <th>5</th>\n",
       "      <td>3.30</td>\n",
       "      <td>236.4</td>\n",
       "    </tr>\n",
       "    <tr>\n",
       "      <th>6</th>\n",
       "      <td>3.82</td>\n",
       "      <td>245.1</td>\n",
       "    </tr>\n",
       "    <tr>\n",
       "      <th>7</th>\n",
       "      <td>4.32</td>\n",
       "      <td>230.0</td>\n",
       "    </tr>\n",
       "    <tr>\n",
       "      <th>8</th>\n",
       "      <td>4.80</td>\n",
       "      <td>227.8</td>\n",
       "    </tr>\n",
       "    <tr>\n",
       "      <th>9</th>\n",
       "      <td>5.28</td>\n",
       "      <td>261.9</td>\n",
       "    </tr>\n",
       "    <tr>\n",
       "      <th>10</th>\n",
       "      <td>5.95</td>\n",
       "      <td>311.7</td>\n",
       "    </tr>\n",
       "    <tr>\n",
       "      <th>11</th>\n",
       "      <td>6.32</td>\n",
       "      <td>321.0</td>\n",
       "    </tr>\n",
       "    <tr>\n",
       "      <th>12</th>\n",
       "      <td>6.98</td>\n",
       "      <td>316.6</td>\n",
       "    </tr>\n",
       "    <tr>\n",
       "      <th>13</th>\n",
       "      <td>9.83</td>\n",
       "      <td>220.7</td>\n",
       "    </tr>\n",
       "    <tr>\n",
       "      <th>14</th>\n",
       "      <td>16.30</td>\n",
       "      <td>231.7</td>\n",
       "    </tr>\n",
       "    <tr>\n",
       "      <th>15</th>\n",
       "      <td>20.25</td>\n",
       "      <td>199.4</td>\n",
       "    </tr>\n",
       "    <tr>\n",
       "      <th>16</th>\n",
       "      <td>29.67</td>\n",
       "      <td>211.1</td>\n",
       "    </tr>\n",
       "    <tr>\n",
       "      <th>17</th>\n",
       "      <td>39.93</td>\n",
       "      <td>190.8</td>\n",
       "    </tr>\n",
       "    <tr>\n",
       "      <th>18</th>\n",
       "      <td>58.00</td>\n",
       "      <td>155.2</td>\n",
       "    </tr>\n",
       "    <tr>\n",
       "      <th>19</th>\n",
       "      <td>74.00</td>\n",
       "      <td>140.1</td>\n",
       "    </tr>\n",
       "    <tr>\n",
       "      <th>20</th>\n",
       "      <td>94.00</td>\n",
       "      <td>144.2</td>\n",
       "    </tr>\n",
       "  </tbody>\n",
       "</table>\n",
       "</div>"
      ],
      "text/plain": [
       "     Time  Concentration\n",
       "0    0.00            0.0\n",
       "1    1.08           84.9\n",
       "2    1.78          239.0\n",
       "3    2.30          233.0\n",
       "4    2.75          220.0\n",
       "5    3.30          236.4\n",
       "6    3.82          245.1\n",
       "7    4.32          230.0\n",
       "8    4.80          227.8\n",
       "9    5.28          261.9\n",
       "10   5.95          311.7\n",
       "11   6.32          321.0\n",
       "12   6.98          316.6\n",
       "13   9.83          220.7\n",
       "14  16.30          231.7\n",
       "15  20.25          199.4\n",
       "16  29.67          211.1\n",
       "17  39.93          190.8\n",
       "18  58.00          155.2\n",
       "19  74.00          140.1\n",
       "20  94.00          144.2"
      ]
     },
     "execution_count": 4,
     "metadata": {},
     "output_type": "execute_result"
    }
   ],
   "source": [
    "df"
   ]
  },
  {
   "cell_type": "code",
   "execution_count": 5,
   "id": "rocky-metabolism",
   "metadata": {},
   "outputs": [],
   "source": [
    "x = df.Time.values[-3:]\n",
    "y = df.Concentration.values[-3:]\n",
    "slope, intercept, r_value, p_value, std_err = linregress(x, y)"
   ]
  },
  {
   "cell_type": "code",
   "execution_count": 6,
   "id": "extra-columbia",
   "metadata": {},
   "outputs": [],
   "source": [
    "# line = [slope*xi + intercept for xi in x]\n",
    "# plt.plot(x, line, color = 'blue', label=\"Fitting Line\", linewidth=1)\n",
    "# plt.show()"
   ]
  },
  {
   "cell_type": "code",
   "execution_count": 7,
   "id": "controlling-islam",
   "metadata": {},
   "outputs": [
    {
     "data": {
      "image/png": "[encoded data removed]",
      "text/plain": [
       "<Figure size 432x288 with 1 Axes>"
      ]
     },
     "metadata": {
      "needs_background": "light"
     },
     "output_type": "display_data"
    }
   ],
   "source": [
    "ext_x = np.array([x[-1] + d for d in range(10, 500, 10)])\n",
    "concentrations = [slope*xi + intercept for xi in ext_x]\n",
    "plt.plot(ext_x, concentrations, color = 'red', label=\"Fitting Line\", linewidth=1)\n",
    "plt.show()"
   ]
  },
  {
   "cell_type": "code",
   "execution_count": 8,
   "id": "intermediate-arrest",
   "metadata": {},
   "outputs": [
    {
     "data": {
      "text/plain": [
       "array([ 0.  ,  1.08,  1.78,  2.3 ,  2.75,  3.3 ,  3.82,  4.32,  4.8 ,\n",
       "        5.28,  5.95,  6.32,  6.98,  9.83, 16.3 , 20.25, 29.67, 39.93,\n",
       "       58.  , 74.  , 94.  ])"
      ]
     },
     "execution_count": 8,
     "metadata": {},
     "output_type": "execute_result"
    }
   ],
   "source": [
    "df.Time.values"
   ]
  },
  {
   "cell_type": "code",
   "execution_count": 9,
   "id": "framed-overview",
   "metadata": {},
   "outputs": [
    {
     "data": {
      "text/plain": [
       "array([104., 114., 124., 134., 144., 154., 164., 174., 184., 194., 204.,\n",
       "       214., 224., 234., 244., 254., 264., 274., 284., 294., 304., 314.,\n",
       "       324., 334., 344., 354., 364., 374., 384., 394., 404., 414., 424.,\n",
       "       434., 444., 454., 464., 474., 484., 494., 504., 514., 524., 534.,\n",
       "       544., 554., 564., 574., 584.])"
      ]
     },
     "execution_count": 9,
     "metadata": {},
     "output_type": "execute_result"
    }
   ],
   "source": [
    "ext_x"
   ]
  },
  {
   "cell_type": "code",
   "execution_count": 10,
   "id": "advised-christopher",
   "metadata": {},
   "outputs": [],
   "source": [
    "x1 = np.concatenate((df.Time.values, ext_x))"
   ]
  },
  {
   "cell_type": "code",
   "execution_count": 11,
   "id": "bronze-marriage",
   "metadata": {},
   "outputs": [],
   "source": [
    "y1 = np.concatenate((df.Concentration.values, np.array(concentrations)))"
   ]
  },
  {
   "cell_type": "code",
   "execution_count": 12,
   "id": "rapid-brand",
   "metadata": {},
   "outputs": [
    {
     "data": {
      "text/plain": [
       "array([[  0.        ,   1.08      ,   1.78      ,   2.3       ,\n",
       "          2.75      ,   3.3       ,   3.82      ,   4.32      ,\n",
       "          4.8       ,   5.28      ,   5.95      ,   6.32      ,\n",
       "          6.98      ,   9.83      ,  16.3       ,  20.25      ,\n",
       "         29.67      ,  39.93      ,  58.        ,  74.        ,\n",
       "         94.        , 104.        , 114.        , 124.        ,\n",
       "        134.        , 144.        , 154.        , 164.        ,\n",
       "        174.        , 184.        , 194.        , 204.        ,\n",
       "        214.        , 224.        , 234.        , 244.        ,\n",
       "        254.        , 264.        , 274.        , 284.        ,\n",
       "        294.        , 304.        , 314.        , 324.        ,\n",
       "        334.        , 344.        , 354.        , 364.        ,\n",
       "        374.        , 384.        , 394.        , 404.        ,\n",
       "        414.        , 424.        , 434.        , 444.        ,\n",
       "        454.        , 464.        , 474.        , 484.        ,\n",
       "        494.        , 504.        , 514.        , 524.        ,\n",
       "        534.        , 544.        , 554.        , 564.        ,\n",
       "        574.        , 584.        ],\n",
       "       [  0.        ,  84.9       , 239.        , 233.        ,\n",
       "        220.        , 236.4       , 245.1       , 230.        ,\n",
       "        227.8       , 261.9       , 311.7       , 321.        ,\n",
       "        316.6       , 220.7       , 231.7       , 199.4       ,\n",
       "        211.1       , 190.8       , 155.2       , 140.1       ,\n",
       "        144.2       , 138.34057377, 135.4942623 , 132.64795082,\n",
       "        129.80163934, 126.95532787, 124.10901639, 121.26270492,\n",
       "        118.41639344, 115.57008197, 112.72377049, 109.87745902,\n",
       "        107.03114754, 104.18483607, 101.33852459,  98.49221311,\n",
       "         95.64590164,  92.79959016,  89.95327869,  87.10696721,\n",
       "         84.26065574,  81.41434426,  78.56803279,  75.72172131,\n",
       "         72.87540984,  70.02909836,  67.18278689,  64.33647541,\n",
       "         61.49016393,  58.64385246,  55.79754098,  52.95122951,\n",
       "         50.10491803,  47.25860656,  44.41229508,  41.56598361,\n",
       "         38.71967213,  35.87336066,  33.02704918,  30.1807377 ,\n",
       "         27.33442623,  24.48811475,  21.64180328,  18.7954918 ,\n",
       "         15.94918033,  13.10286885,  10.25655738,   7.4102459 ,\n",
       "          4.56393443,   1.71762295]])"
      ]
     },
     "execution_count": 12,
     "metadata": {},
     "output_type": "execute_result"
    }
   ],
   "source": [
    "np.vstack((x1, y1))"
   ]
  },
  {
   "cell_type": "code",
   "execution_count": 13,
   "id": "specific-toner",
   "metadata": {},
   "outputs": [],
   "source": [
    "for i in range(len(ext_x)):\n",
    "    df = df.append(dict([(\"Time\", ext_x[i]), (\"Concentration\", concentrations[i])]), ignore_index=True)"
   ]
  },
  {
   "cell_type": "code",
   "execution_count": 14,
   "id": "junior-channel",
   "metadata": {},
   "outputs": [
    {
     "data": {
      "text/html": [
       "<div>\n",
       "<style scoped>\n",
       "    .dataframe tbody tr th:only-of-type {\n",
       "        vertical-align: middle;\n",
       "    }\n",
       "\n",
       "    .dataframe tbody tr th {\n",
       "        vertical-align: top;\n",
       "    }\n",
       "\n",
       "    .dataframe thead th {\n",
       "        text-align: right;\n",
       "    }\n",
       "</style>\n",
       "<table border=\"1\" class=\"dataframe\">\n",
       "  <thead>\n",
       "    <tr style=\"text-align: right;\">\n",
       "      <th></th>\n",
       "      <th>Time</th>\n",
       "      <th>Concentration</th>\n",
       "    </tr>\n",
       "  </thead>\n",
       "  <tbody>\n",
       "    <tr>\n",
       "      <th>0</th>\n",
       "      <td>0.00</td>\n",
       "      <td>0.000000</td>\n",
       "    </tr>\n",
       "    <tr>\n",
       "      <th>1</th>\n",
       "      <td>1.08</td>\n",
       "      <td>84.900000</td>\n",
       "    </tr>\n",
       "    <tr>\n",
       "      <th>2</th>\n",
       "      <td>1.78</td>\n",
       "      <td>239.000000</td>\n",
       "    </tr>\n",
       "    <tr>\n",
       "      <th>3</th>\n",
       "      <td>2.30</td>\n",
       "      <td>233.000000</td>\n",
       "    </tr>\n",
       "    <tr>\n",
       "      <th>4</th>\n",
       "      <td>2.75</td>\n",
       "      <td>220.000000</td>\n",
       "    </tr>\n",
       "    <tr>\n",
       "      <th>...</th>\n",
       "      <td>...</td>\n",
       "      <td>...</td>\n",
       "    </tr>\n",
       "    <tr>\n",
       "      <th>65</th>\n",
       "      <td>544.00</td>\n",
       "      <td>13.102869</td>\n",
       "    </tr>\n",
       "    <tr>\n",
       "      <th>66</th>\n",
       "      <td>554.00</td>\n",
       "      <td>10.256557</td>\n",
       "    </tr>\n",
       "    <tr>\n",
       "      <th>67</th>\n",
       "      <td>564.00</td>\n",
       "      <td>7.410246</td>\n",
       "    </tr>\n",
       "    <tr>\n",
       "      <th>68</th>\n",
       "      <td>574.00</td>\n",
       "      <td>4.563934</td>\n",
       "    </tr>\n",
       "    <tr>\n",
       "      <th>69</th>\n",
       "      <td>584.00</td>\n",
       "      <td>1.717623</td>\n",
       "    </tr>\n",
       "  </tbody>\n",
       "</table>\n",
       "<p>70 rows × 2 columns</p>\n",
       "</div>"
      ],
      "text/plain": [
       "      Time  Concentration\n",
       "0     0.00       0.000000\n",
       "1     1.08      84.900000\n",
       "2     1.78     239.000000\n",
       "3     2.30     233.000000\n",
       "4     2.75     220.000000\n",
       "..     ...            ...\n",
       "65  544.00      13.102869\n",
       "66  554.00      10.256557\n",
       "67  564.00       7.410246\n",
       "68  574.00       4.563934\n",
       "69  584.00       1.717623\n",
       "\n",
       "[70 rows x 2 columns]"
      ]
     },
     "execution_count": 14,
     "metadata": {},
     "output_type": "execute_result"
    }
   ],
   "source": [
    "df"
   ]
  },
  {
   "cell_type": "code",
   "execution_count": 15,
   "id": "senior-grace",
   "metadata": {},
   "outputs": [],
   "source": [
    "df.to_excel(\"project_1_extended_data.xlsx\")"
   ]
  },
  {
   "cell_type": "code",
   "execution_count": 16,
   "id": "defensive-locator",
   "metadata": {},
   "outputs": [],
   "source": [
    "from datetime import timedelta\n",
    "\n",
    "df['Time'] = df['Time'].astype(str) \n",
    "\n",
    "def convert_to_time(x):\n",
    "    split_ar =  x.split('.')\n",
    "    if len(split_ar) == 1:\n",
    "        return timedelta(minutes=float(split_ar[0]), seconds=0, milliseconds=0)\n",
    "    if len(split_ar) == 2:\n",
    "        return timedelta(minutes=float(split_ar[0]), seconds=float(split_ar[1]), milliseconds=0)\n",
    "    raise ValueError()\n",
    "\n",
    "df['Time'] = df['Time'].apply(convert_to_time)\n",
    "df[\"Time\"] = pd.Timestamp('today').normalize() + df['Time']"
   ]
  },
  {
   "cell_type": "code",
   "execution_count": 17,
   "id": "interstate-quest",
   "metadata": {},
   "outputs": [],
   "source": [
    "df = df.set_index('Time')"
   ]
  },
  {
   "cell_type": "code",
   "execution_count": 18,
   "id": "ranging-skating",
   "metadata": {},
   "outputs": [
    {
     "data": {
      "text/plain": [
       "<AxesSubplot:title={'center':'Cp(t)'}, xlabel='Time'>"
      ]
     },
     "execution_count": 18,
     "metadata": {},
     "output_type": "execute_result"
    },
    {
     "data": {
      "image/png": "[encoded data removed]",
      "text/plain": [
       "<Figure size 432x288 with 1 Axes>"
      ]
     },
     "metadata": {
      "needs_background": "light"
     },
     "output_type": "display_data"
    }
   ],
   "source": [
    "df['Concentration'].plot(title = \"Cp(t)\")"
   ]
  },
  {
   "cell_type": "code",
   "execution_count": 19,
   "id": "loose-metallic",
   "metadata": {},
   "outputs": [],
   "source": [
    "#df.to_csv(\"project_1_extended_data.csv\", index=False)"
   ]
  },
  {
   "cell_type": "code",
   "execution_count": null,
   "id": "chronic-charger",
   "metadata": {},
   "outputs": [],
   "source": []
  }
 ],
 "metadata": {
  "kernelspec": {
   "display_name": "algodna",
   "language": "python",
   "name": "algodna"
  },
  "language_info": {
   "codemirror_mode": {
    "name": "ipython",
    "version": 3
   },
   "file_extension": ".py",
   "mimetype": "text/x-python",
   "name": "python",
   "nbconvert_exporter": "python",
   "pygments_lexer": "ipython3",
   "version": "3.9.1"
  }
 },
 "nbformat": 4,
 "nbformat_minor": 5
}
